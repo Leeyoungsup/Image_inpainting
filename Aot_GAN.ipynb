{
 "cells": [
  {
   "cell_type": "code",
   "execution_count": null,
   "metadata": {},
   "outputs": [],
   "source": [
    "import os\n",
    "from glob import glob\n",
    "import model.aotgan \n",
    "import torch\n",
    "from torch.nn.parallel import DistributedDataParallel as DDP\n",
    "from torch.utils.tensorboard import SummaryWriter\n",
    "from torchvision.utils import make_grid\n",
    "from tqdm import tqdm\n",
    "from torchinfo import summary\n",
    "os.environ[\"CUDA_DEVICE_ORDER\"]=\"PCI_BUS_ID\"\n",
    "os.environ[\"CUDA_VISIBLE_DEVICES\"]= \"4\" \n",
    "device = torch.device(\"cuda\" if torch.cuda.is_available() else \"cpu\")"
   ]
  },
  {
   "cell_type": "code",
   "execution_count": 49,
   "metadata": {},
   "outputs": [],
   "source": [
    "params={'image_size':512,\n",
    "        'rates':[1, 2, 4, 8],\n",
    "        'block_num':8,\n",
    "        'model':'aotgan',\n",
    "        'gan_type':\"smgan\",\n",
    "        'lrg':1e-4,\n",
    "        'lrd':1e-4,\n",
    "        'beta1':0.5,\n",
    "        'beta2':0.999,\n",
    "        'batch_size':4,\n",
    "        'epochs':100,\n",
    "        }"
   ]
  },
  {
   "cell_type": "code",
   "execution_count": 50,
   "metadata": {},
   "outputs": [],
   "source": [
    "netG =model.aotgan.InpaintGenerator(params).to(device)\n",
    "optimG = torch.optim.Adam(netG.parameters(), lr=params['lrg'], betas=(params['beta1'], params['beta2']))\n",
    "\n",
    "netD = model.aotgan.Discriminator().to(device)\n",
    "optimD = torch.optim.Adam(netD.parameters(), lr=params['lrd'], betas=(params['beta1'], params['beta2']))"
   ]
  },
  {
   "cell_type": "code",
   "execution_count": 51,
   "metadata": {},
   "outputs": [
    {
     "data": {
      "text/plain": [
       "===============================================================================================\n",
       "Layer (type:depth-idx)                        Output Shape              Param #\n",
       "===============================================================================================\n",
       "InpaintGenerator                              [4, 3, 512, 512]          --\n",
       "├─Sequential: 1-1                             [4, 256, 128, 128]        --\n",
       "│    └─ReflectionPad2d: 2-1                   [4, 4, 518, 518]          --\n",
       "│    └─Conv2d: 2-2                            [4, 64, 512, 512]         12,608\n",
       "│    └─ReLU: 2-3                              [4, 64, 512, 512]         --\n",
       "│    └─Conv2d: 2-4                            [4, 128, 256, 256]        131,200\n",
       "│    └─ReLU: 2-5                              [4, 128, 256, 256]        --\n",
       "│    └─Conv2d: 2-6                            [4, 256, 128, 128]        524,544\n",
       "│    └─ReLU: 2-7                              [4, 256, 128, 128]        --\n",
       "├─Sequential: 1-2                             [4, 256, 128, 128]        --\n",
       "│    └─AOTBlock: 2-8                          [4, 256, 128, 128]        --\n",
       "│    │    └─Sequential: 3-1                   [4, 64, 128, 128]         147,520\n",
       "│    │    └─Sequential: 3-2                   [4, 64, 128, 128]         147,520\n",
       "│    │    └─Sequential: 3-3                   [4, 64, 128, 128]         147,520\n",
       "│    │    └─Sequential: 3-4                   [4, 64, 128, 128]         147,520\n",
       "│    │    └─Sequential: 3-5                   [4, 256, 128, 128]        590,080\n",
       "│    │    └─Sequential: 3-6                   [4, 256, 128, 128]        590,080\n",
       "│    └─AOTBlock: 2-9                          [4, 256, 128, 128]        --\n",
       "│    │    └─Sequential: 3-7                   [4, 64, 128, 128]         147,520\n",
       "│    │    └─Sequential: 3-8                   [4, 64, 128, 128]         147,520\n",
       "│    │    └─Sequential: 3-9                   [4, 64, 128, 128]         147,520\n",
       "│    │    └─Sequential: 3-10                  [4, 64, 128, 128]         147,520\n",
       "│    │    └─Sequential: 3-11                  [4, 256, 128, 128]        590,080\n",
       "│    │    └─Sequential: 3-12                  [4, 256, 128, 128]        590,080\n",
       "│    └─AOTBlock: 2-10                         [4, 256, 128, 128]        --\n",
       "│    │    └─Sequential: 3-13                  [4, 64, 128, 128]         147,520\n",
       "│    │    └─Sequential: 3-14                  [4, 64, 128, 128]         147,520\n",
       "│    │    └─Sequential: 3-15                  [4, 64, 128, 128]         147,520\n",
       "│    │    └─Sequential: 3-16                  [4, 64, 128, 128]         147,520\n",
       "│    │    └─Sequential: 3-17                  [4, 256, 128, 128]        590,080\n",
       "│    │    └─Sequential: 3-18                  [4, 256, 128, 128]        590,080\n",
       "│    └─AOTBlock: 2-11                         [4, 256, 128, 128]        --\n",
       "│    │    └─Sequential: 3-19                  [4, 64, 128, 128]         147,520\n",
       "│    │    └─Sequential: 3-20                  [4, 64, 128, 128]         147,520\n",
       "│    │    └─Sequential: 3-21                  [4, 64, 128, 128]         147,520\n",
       "│    │    └─Sequential: 3-22                  [4, 64, 128, 128]         147,520\n",
       "│    │    └─Sequential: 3-23                  [4, 256, 128, 128]        590,080\n",
       "│    │    └─Sequential: 3-24                  [4, 256, 128, 128]        590,080\n",
       "│    └─AOTBlock: 2-12                         [4, 256, 128, 128]        --\n",
       "│    │    └─Sequential: 3-25                  [4, 64, 128, 128]         147,520\n",
       "│    │    └─Sequential: 3-26                  [4, 64, 128, 128]         147,520\n",
       "│    │    └─Sequential: 3-27                  [4, 64, 128, 128]         147,520\n",
       "│    │    └─Sequential: 3-28                  [4, 64, 128, 128]         147,520\n",
       "│    │    └─Sequential: 3-29                  [4, 256, 128, 128]        590,080\n",
       "│    │    └─Sequential: 3-30                  [4, 256, 128, 128]        590,080\n",
       "│    └─AOTBlock: 2-13                         [4, 256, 128, 128]        --\n",
       "│    │    └─Sequential: 3-31                  [4, 64, 128, 128]         147,520\n",
       "│    │    └─Sequential: 3-32                  [4, 64, 128, 128]         147,520\n",
       "│    │    └─Sequential: 3-33                  [4, 64, 128, 128]         147,520\n",
       "│    │    └─Sequential: 3-34                  [4, 64, 128, 128]         147,520\n",
       "│    │    └─Sequential: 3-35                  [4, 256, 128, 128]        590,080\n",
       "│    │    └─Sequential: 3-36                  [4, 256, 128, 128]        590,080\n",
       "│    └─AOTBlock: 2-14                         [4, 256, 128, 128]        --\n",
       "│    │    └─Sequential: 3-37                  [4, 64, 128, 128]         147,520\n",
       "│    │    └─Sequential: 3-38                  [4, 64, 128, 128]         147,520\n",
       "│    │    └─Sequential: 3-39                  [4, 64, 128, 128]         147,520\n",
       "│    │    └─Sequential: 3-40                  [4, 64, 128, 128]         147,520\n",
       "│    │    └─Sequential: 3-41                  [4, 256, 128, 128]        590,080\n",
       "│    │    └─Sequential: 3-42                  [4, 256, 128, 128]        590,080\n",
       "│    └─AOTBlock: 2-15                         [4, 256, 128, 128]        --\n",
       "│    │    └─Sequential: 3-43                  [4, 64, 128, 128]         147,520\n",
       "│    │    └─Sequential: 3-44                  [4, 64, 128, 128]         147,520\n",
       "│    │    └─Sequential: 3-45                  [4, 64, 128, 128]         147,520\n",
       "│    │    └─Sequential: 3-46                  [4, 64, 128, 128]         147,520\n",
       "│    │    └─Sequential: 3-47                  [4, 256, 128, 128]        590,080\n",
       "│    │    └─Sequential: 3-48                  [4, 256, 128, 128]        590,080\n",
       "├─Sequential: 1-3                             [4, 3, 512, 512]          --\n",
       "│    └─UpConv: 2-16                           [4, 128, 256, 256]        --\n",
       "│    │    └─Conv2d: 3-49                      [4, 128, 256, 256]        295,040\n",
       "│    └─ReLU: 2-17                             [4, 128, 256, 256]        --\n",
       "│    └─UpConv: 2-18                           [4, 64, 512, 512]         --\n",
       "│    │    └─Conv2d: 3-50                      [4, 64, 512, 512]         73,792\n",
       "│    └─ReLU: 2-19                             [4, 64, 512, 512]         --\n",
       "│    └─Conv2d: 2-20                           [4, 3, 512, 512]          1,731\n",
       "===============================================================================================\n",
       "Total params: 15,200,835\n",
       "Trainable params: 15,200,835\n",
       "Non-trainable params: 0\n",
       "Total mult-adds (T): 1.17\n",
       "===============================================================================================\n",
       "Input size (MB): 16.78\n",
       "Forward/backward pass size (MB): 4991.22\n",
       "Params size (MB): 60.80\n",
       "Estimated Total Size (MB): 5068.80\n",
       "==============================================================================================="
      ]
     },
     "execution_count": 51,
     "metadata": {},
     "output_type": "execute_result"
    }
   ],
   "source": [
    "summary(netG,[(params['batch_size'],3,params['image_size'],params['image_size']),(params['batch_size'],1,params['image_size'],params['image_size'])])"
   ]
  },
  {
   "cell_type": "code",
   "execution_count": 45,
   "metadata": {},
   "outputs": [
    {
     "data": {
      "text/plain": [
       "7"
      ]
     },
     "execution_count": 45,
     "metadata": {},
     "output_type": "execute_result"
    }
   ],
   "source": [
    "len(rates)"
   ]
  }
 ],
 "metadata": {
  "kernelspec": {
   "display_name": "LeeYS",
   "language": "python",
   "name": "python3"
  },
  "language_info": {
   "codemirror_mode": {
    "name": "ipython",
    "version": 3
   },
   "file_extension": ".py",
   "mimetype": "text/x-python",
   "name": "python",
   "nbconvert_exporter": "python",
   "pygments_lexer": "ipython3",
   "version": "3.9.0"
  }
 },
 "nbformat": 4,
 "nbformat_minor": 2
}
