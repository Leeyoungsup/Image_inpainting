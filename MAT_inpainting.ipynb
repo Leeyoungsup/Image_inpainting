{
 "cells": [
  {
   "cell_type": "code",
   "execution_count": 1,
   "metadata": {},
   "outputs": [
    {
     "name": "stderr",
     "output_type": "stream",
     "text": [
      "2024-06-04 14:57:43.625511: W tensorflow/compiler/tf2tensorrt/utils/py_utils.cc:38] TF-TRT Warning: Could not find TensorRT\n"
     ]
    }
   ],
   "source": [
    "import model.mat as MAT\n",
    "import os\n",
    "from glob import glob\n",
    "import model.aotgan \n",
    "import torch\n",
    "from torch.nn.parallel import DistributedDataParallel as DDP\n",
    "from torch.utils.tensorboard import SummaryWriter\n",
    "from torchvision.utils import make_grid\n",
    "from tqdm import tqdm\n",
    "import torchvision.transforms as transforms\n",
    "import torchvision.transforms.functional as F\n",
    "from PIL import Image\n",
    "from torch.utils.data import Dataset\n",
    "import random\n",
    "import numpy as np\n",
    "from torch.utils.data import DataLoader\n",
    "from torchinfo import summary\n",
    "import matplotlib.pyplot as plt\n",
    "from loss1 import loss as loss_module\n",
    "os.environ[\"CUDA_DEVICE_ORDER\"]=\"PCI_BUS_ID\"\n",
    "os.environ[\"CUDA_VISIBLE_DEVICES\"]= \"5\" \n",
    "device = torch.device(\"cuda\" if torch.cuda.is_available() else \"cpu\")"
   ]
  },
  {
   "cell_type": "code",
   "execution_count": 22,
   "metadata": {},
   "outputs": [
    {
     "name": "stdout",
     "output_type": "stream",
     "text": [
      "Setting up PyTorch plugin \"bias_act_plugin\"... Failed!\n",
      "Setting up PyTorch plugin \"upfirdn2d_plugin\"... "
     ]
    },
    {
     "name": "stderr",
     "output_type": "stream",
     "text": [
      "/home/gil/gcubme_ai2/Workspace/YS_Lee/image_inpainting/code/Image_inpainting/torch_utils/ops/bias_act.py:50: UserWarning: Failed to build CUDA kernels for bias_act. Falling back to slow reference implementation. Details:\n",
      "\n",
      "Traceback (most recent call last):\n",
      "  File \"/home/gil/gcubme_ai2/Workspace/YS_Lee/image_inpainting/code/Image_inpainting/torch_utils/ops/bias_act.py\", line 48, in _init\n",
      "    _plugin = custom_ops.get_plugin('bias_act_plugin', sources=sources, extra_cuda_cflags=['--use_fast_math'])\n",
      "  File \"/home/gil/gcubme_ai2/Workspace/YS_Lee/image_inpainting/code/Image_inpainting/torch_utils/custom_ops.py\", line 110, in get_plugin\n",
      "    torch.utils.cpp_extension.load(name=module_name, verbose=verbose_build, sources=sources, **build_kwargs)\n",
      "  File \"/home/gil/anaconda3/envs/LeeYS/lib/python3.9/site-packages/torch/utils/cpp_extension.py\", line 1308, in load\n",
      "    return _jit_compile(\n",
      "  File \"/home/gil/anaconda3/envs/LeeYS/lib/python3.9/site-packages/torch/utils/cpp_extension.py\", line 1724, in _jit_compile\n",
      "    baton.wait()\n",
      "  File \"/home/gil/anaconda3/envs/LeeYS/lib/python3.9/site-packages/torch/utils/file_baton.py\", line 42, in wait\n",
      "    time.sleep(self.wait_seconds)\n",
      "KeyboardInterrupt\n",
      "\n",
      "  warnings.warn('Failed to build CUDA kernels for bias_act. Falling back to slow reference implementation. Details:\\n\\n' + traceback.format_exc())\n"
     ]
    }
   ],
   "source": [
    "\n",
    "device = torch.device('cuda:4')\n",
    "batch = 1\n",
    "res = 512\n",
    "G = MAT.Generator(z_dim=512, c_dim=0, w_dim=512, img_resolution=512, img_channels=3).to(device)\n",
    "D = MAT.Discriminator(c_dim=0, img_resolution=res, img_channels=3).to(device)\n",
    "img = torch.randn(batch, 3, res, res).to(device)\n",
    "mask = torch.randn(batch, 1, res, res).to(device)\n",
    "z = torch.randn(batch, 512).to(device)\n",
    "G.eval()\n",
    "img, img_stg1 = G(img, mask, z, None, return_stg1=True)"
   ]
  },
  {
   "cell_type": "code",
   "execution_count": null,
   "metadata": {},
   "outputs": [],
   "source": []
  }
 ],
 "metadata": {
  "kernelspec": {
   "display_name": "LeeYS",
   "language": "python",
   "name": "python3"
  },
  "language_info": {
   "codemirror_mode": {
    "name": "ipython",
    "version": 3
   },
   "file_extension": ".py",
   "mimetype": "text/x-python",
   "name": "python",
   "nbconvert_exporter": "python",
   "pygments_lexer": "ipython3",
   "version": "3.9.0"
  }
 },
 "nbformat": 4,
 "nbformat_minor": 2
}
